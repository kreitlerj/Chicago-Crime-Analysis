{
 "cells": [
  {
   "cell_type": "code",
   "execution_count": 1,
   "metadata": {},
   "outputs": [],
   "source": [
    "import pandas as pd\n",
    "import numpy as np\n",
    "\n",
    "import sqlalchemy\n",
    "from sqlalchemy.ext.automap import automap_base\n",
    "from sqlalchemy.orm import Session\n",
    "from sqlalchemy import create_engine"
   ]
  },
  {
   "cell_type": "code",
   "execution_count": 2,
   "metadata": {},
   "outputs": [],
   "source": [
    "engine = create_engine(\"sqlite:///db/Chicago_Crime_DB.sqlite\")"
   ]
  },
  {
   "cell_type": "code",
   "execution_count": 3,
   "metadata": {},
   "outputs": [],
   "source": [
    "db = Session(engine)"
   ]
  },
  {
   "cell_type": "code",
   "execution_count": 4,
   "metadata": {},
   "outputs": [],
   "source": [
    "# reflect an existing database into a new model\n",
    "Base = automap_base()\n",
    "# reflect the tables\n",
    "Base.prepare(engine, reflect=True)"
   ]
  },
  {
   "cell_type": "code",
   "execution_count": 5,
   "metadata": {},
   "outputs": [
    {
     "data": {
      "text/plain": [
       "['Crime_2017', 'Crime_2018']"
      ]
     },
     "execution_count": 5,
     "metadata": {},
     "output_type": "execute_result"
    }
   ],
   "source": [
    "Base.classes.keys()"
   ]
  },
  {
   "cell_type": "code",
   "execution_count": 6,
   "metadata": {},
   "outputs": [],
   "source": [
    "crime_2017 = Base.classes.Crime_2017\n",
    "crime_2018 = Base.classes.Crime_2018"
   ]
  },
  {
   "cell_type": "code",
   "execution_count": 7,
   "metadata": {},
   "outputs": [],
   "source": [
    "stmt_2017 = db.query(crime_2017).statement\n",
    "df_2017 = pd.read_sql_query(stmt_2017, db.bind)\n",
    "\n",
    "stmt_2018 = db.query(crime_2018).statement\n",
    "df_2018 = pd.read_sql_query(stmt_2018, db.bind)"
   ]
  },
  {
   "cell_type": "code",
   "execution_count": 8,
   "metadata": {},
   "outputs": [],
   "source": [
    "months_array = ['Jan', 'Feb', 'Mar', 'Apr', 'May', 'Jun', 'Jul', 'Aug', 'Sep', 'Oct', 'Nov', 'Dec']\n"
   ]
  },
  {
   "cell_type": "code",
   "execution_count": 9,
   "metadata": {},
   "outputs": [],
   "source": [
    "monthly_crime_2017 = {}\n",
    "monthly_crime_2018 = {}\n",
    "for month in months_array:\n",
    "    monthly_crime_2017[month] = db.query(crime_2017).filter(crime_2017.Month == month).count()\n",
    "    monthly_crime_2018[month] = db.query(crime_2018).filter(crime_2018.Month == month).count()"
   ]
  },
  {
   "cell_type": "code",
   "execution_count": 10,
   "metadata": {},
   "outputs": [
    {
     "name": "stdout",
     "output_type": "stream",
     "text": [
      "{'Jan': 6319, 'Feb': 5752, 'Mar': 6368, 'Apr': 6874, 'May': 7615, 'Jun': 7801, 'Jul': 7886, 'Aug': 7640, 'Sep': 7501, 'Oct': 7207, 'Nov': 6574, 'Dec': 6359}\n",
      "{'Jan': 6140, 'Feb': 5420, 'Mar': 6560, 'Apr': 6385, 'May': 8147, 'Jun': 7676, 'Jul': 8011, 'Aug': 7744, 'Sep': 7254, 'Oct': 7156, 'Nov': 6226, 'Dec': 6543}\n"
     ]
    }
   ],
   "source": [
    "print(monthly_crime_2017)\n",
    "print(monthly_crime_2018)"
   ]
  },
  {
   "cell_type": "code",
   "execution_count": 14,
   "metadata": {},
   "outputs": [],
   "source": [
    "ward_2017 = {}\n",
    "ward_2018 = {}\n",
    "for i in range(1, 51):\n",
    "    ward_2017[str(i)] = db.query(crime_2017).filter(crime_2017.Ward == float(i)).count()\n",
    "    ward_2018[str(i)] = db.query(crime_2018).filter(crime_2018.Ward == float(i)).count()"
   ]
  },
  {
   "cell_type": "code",
   "execution_count": 15,
   "metadata": {
    "scrolled": true
   },
   "outputs": [
    {
     "name": "stdout",
     "output_type": "stream",
     "text": [
      "{'1': 1171, '2': 3262, '3': 2660, '4': 1571, '5': 2347, '6': 3172, '7': 2728, '8': 2633, '9': 2579, '10': 1509, '11': 979, '12': 1114, '13': 840, '14': 1091, '15': 2329, '16': 2437, '17': 3448, '18': 1459, '19': 578, '20': 3167, '21': 2635, '22': 1102, '23': 787, '24': 4382, '25': 1222, '26': 1277, '27': 2755, '28': 4247, '29': 2169, '30': 1123, '31': 1039, '32': 762, '33': 698, '34': 2394, '35': 893, '36': 732, '37': 2256, '38': 778, '39': 701, '40': 806, '41': 634, '42': 2916, '43': 668, '44': 956, '45': 676, '46': 1041, '47': 533, '48': 721, '49': 1140, '50': 778}\n",
      "{'1': 1032, '2': 2601, '3': 2703, '4': 1690, '5': 2167, '6': 3146, '7': 2669, '8': 2655, '9': 2602, '10': 1525, '11': 923, '12': 1070, '13': 769, '14': 958, '15': 2252, '16': 2592, '17': 3339, '18': 1378, '19': 507, '20': 2967, '21': 2715, '22': 1159, '23': 741, '24': 4229, '25': 1197, '26': 1247, '27': 2944, '28': 4375, '29': 2182, '30': 1006, '31': 998, '32': 646, '33': 795, '34': 2397, '35': 922, '36': 782, '37': 2467, '38': 771, '39': 694, '40': 858, '41': 655, '42': 3209, '43': 679, '44': 961, '45': 694, '46': 1057, '47': 511, '48': 843, '49': 1170, '50': 812}\n"
     ]
    }
   ],
   "source": [
    "print(ward_2017)\n",
    "print(ward_2018)"
   ]
  },
  {
   "cell_type": "code",
   "execution_count": 18,
   "metadata": {},
   "outputs": [],
   "source": [
    "data = {'2017' : {'monthly_crime': monthly_crime_2017, 'ward_crime': ward_2017}, \n",
    "        '2018': {'monthly_crime': monthly_crime_2018, 'ward_crime': ward_2018}}"
   ]
  },
  {
   "cell_type": "code",
   "execution_count": 19,
   "metadata": {},
   "outputs": [
    {
     "name": "stdout",
     "output_type": "stream",
     "text": [
      "{'2017': {'monthly_crime': {'Jan': 6319, 'Feb': 5752, 'Mar': 6368, 'Apr': 6874, 'May': 7615, 'Jun': 7801, 'Jul': 7886, 'Aug': 7640, 'Sep': 7501, 'Oct': 7207, 'Nov': 6574, 'Dec': 6359}, 'ward_crime': {'1': 1171, '2': 3262, '3': 2660, '4': 1571, '5': 2347, '6': 3172, '7': 2728, '8': 2633, '9': 2579, '10': 1509, '11': 979, '12': 1114, '13': 840, '14': 1091, '15': 2329, '16': 2437, '17': 3448, '18': 1459, '19': 578, '20': 3167, '21': 2635, '22': 1102, '23': 787, '24': 4382, '25': 1222, '26': 1277, '27': 2755, '28': 4247, '29': 2169, '30': 1123, '31': 1039, '32': 762, '33': 698, '34': 2394, '35': 893, '36': 732, '37': 2256, '38': 778, '39': 701, '40': 806, '41': 634, '42': 2916, '43': 668, '44': 956, '45': 676, '46': 1041, '47': 533, '48': 721, '49': 1140, '50': 778}}, '2018': {'monthly_crime': {'Jan': 6140, 'Feb': 5420, 'Mar': 6560, 'Apr': 6385, 'May': 8147, 'Jun': 7676, 'Jul': 8011, 'Aug': 7744, 'Sep': 7254, 'Oct': 7156, 'Nov': 6226, 'Dec': 6543}, 'ward_crime': {'1': 1032, '2': 2601, '3': 2703, '4': 1690, '5': 2167, '6': 3146, '7': 2669, '8': 2655, '9': 2602, '10': 1525, '11': 923, '12': 1070, '13': 769, '14': 958, '15': 2252, '16': 2592, '17': 3339, '18': 1378, '19': 507, '20': 2967, '21': 2715, '22': 1159, '23': 741, '24': 4229, '25': 1197, '26': 1247, '27': 2944, '28': 4375, '29': 2182, '30': 1006, '31': 998, '32': 646, '33': 795, '34': 2397, '35': 922, '36': 782, '37': 2467, '38': 771, '39': 694, '40': 858, '41': 655, '42': 3209, '43': 679, '44': 961, '45': 694, '46': 1057, '47': 511, '48': 843, '49': 1170, '50': 812}}}\n"
     ]
    }
   ],
   "source": [
    "print(data)"
   ]
  },
  {
   "cell_type": "code",
   "execution_count": null,
   "metadata": {},
   "outputs": [],
   "source": []
  }
 ],
 "metadata": {
  "kernelspec": {
   "display_name": "Python 3",
   "language": "python",
   "name": "python3"
  },
  "language_info": {
   "codemirror_mode": {
    "name": "ipython",
    "version": 3
   },
   "file_extension": ".py",
   "mimetype": "text/x-python",
   "name": "python",
   "nbconvert_exporter": "python",
   "pygments_lexer": "ipython3",
   "version": "3.6.5"
  }
 },
 "nbformat": 4,
 "nbformat_minor": 2
}
